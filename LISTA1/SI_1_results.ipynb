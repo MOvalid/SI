{
 "cells": [
  {
   "cell_type": "markdown",
   "metadata": {},
   "source": [
    "<h1>SI LABOLATORIUM - LISTA 1<h1>"
   ]
  },
  {
   "cell_type": "code",
   "execution_count": 2,
   "metadata": {},
   "outputs": [
    {
     "name": "stdout",
     "output_type": "stream",
     "text": [
      "Connection graph loading time: 3.8948 s\n",
      "Connection graph building time: 1.5814 s\n",
      "----------------------------------------\n",
      "\n"
     ]
    }
   ],
   "source": [
    "from test_main import *\n",
    "from timer import Timer\n",
    "from typing import Callable\n",
    "\n",
    "\n",
    "pl_grunwaldzki =  Station('PL. GRUNWALDZKI', 51.11145165, 17.06052919)\n",
    "kwiska = Station('Kwiska', 51.12527525, 16.98342767)\n",
    "pl_danilowskiego = Station('pl. Daniłowskiego', 51.13845372, 17.05991231)\n",
    "koszarowa_uniwersytet = Station('KOSZAROWA (Uniwersytet)', 51.14049516, 17.06847989)\n",
    "grabiszynska_cmentarz = Station('GRABISZYŃSKA (Cmentarz)', 51.08990377, 16.97664203)\n",
    "fat = Station('FAT', 51.09412632, 16.9783528)\n",
    "wiejska = Station('Wiejska', 51.07700276, 16.96415159)\n",
    "poczta_glowna = Station('Poczta Główna', 51.1078565, 17.04563742)\n",
    "krzyki = Station('KRZYKI', 51.07488366, 17.00656861)"
   ]
  },
  {
   "cell_type": "markdown",
   "metadata": {},
   "source": [
    "<h3>Sąsiednie przystanki dla placu Grunwaldzkiego<h3>"
   ]
  },
  {
   "cell_type": "code",
   "execution_count": 3,
   "metadata": {},
   "outputs": [
    {
     "name": "stdout",
     "output_type": "stream",
     "text": [
      "most Grunwaldzki\n",
      "Kochanowskiego\n",
      "Kliniki - Politechnika Wrocławska\n",
      "Piastowska\n",
      "Reja\n",
      "Bujwida\n",
      "PL. GRUNWALDZKI\n"
     ]
    }
   ],
   "source": [
    "for neighbor in data.graph_dict[pl_grunwaldzki]:\n",
    "    print(neighbor)"
   ]
  },
  {
   "cell_type": "markdown",
   "metadata": {},
   "source": [
    "<h3>10 losowych krawędzi 'wychodzących' z przystanku pl. Grunwaldzki<h3>"
   ]
  },
  {
   "cell_type": "code",
   "execution_count": 4,
   "metadata": {},
   "outputs": [
    {
     "name": "stdout",
     "output_type": "stream",
     "text": [
      "Stacja początkowa                        | Stacja końcowa                           | Linia | Czasy przejazdu\n",
      "------------------------------------------------------------------------------------------------------------------------\n",
      "PL. GRUNWALDZKI                          | most Grunwaldzki                         | 4     | 17:40:00 - 17:41:00\n",
      "PL. GRUNWALDZKI                          | most Grunwaldzki                         | 4     | 07:52:00 - 07:53:00\n",
      "PL. GRUNWALDZKI                          | most Grunwaldzki                         | 146   | 12:37:00 - 12:39:00\n",
      "PL. GRUNWALDZKI                          | most Grunwaldzki                         | 145   | 07:09:00 - 07:11:00\n",
      "PL. GRUNWALDZKI                          | most Grunwaldzki                         | 16    | 14:32:00 - 14:33:00\n",
      "PL. GRUNWALDZKI                          | most Grunwaldzki                         | 12    | 13:56:00 - 13:57:00\n",
      "PL. GRUNWALDZKI                          | most Grunwaldzki                         | 13    | 16:11:00 - 16:12:00\n",
      "PL. GRUNWALDZKI                          | most Grunwaldzki                         | 12    | 10:25:00 - 10:26:00\n",
      "PL. GRUNWALDZKI                          | most Grunwaldzki                         | 13    | 15:11:00 - 15:12:00\n",
      "PL. GRUNWALDZKI                          | most Grunwaldzki                         | 13    | 08:37:00 - 08:38:00\n"
     ]
    }
   ],
   "source": [
    "print(f\"Stacja początkowa\".ljust(40) + \" | \" + \"Stacja końcowa\".ljust(40) + \" | \" + \"Linia\" + \" | \" + \"Czasy przejazdu\")\n",
    "print(\"-\" * 120)\n",
    "for edge in data.get_all_edges(pl_grunwaldzki)[:10]:\n",
    "    print(edge)"
   ]
  },
  {
   "cell_type": "markdown",
   "metadata": {},
   "source": [
    "<h3>Kod dla algorytmu Dijkstry<h3>\n"
   ]
  },
  {
   "cell_type": "code",
   "execution_count": 5,
   "metadata": {},
   "outputs": [],
   "source": [
    "def dijkstra_with_time(graph, start_station, goal_station, start_time):\n",
    "    costs = {node: float('inf') for node in graph.graph_dict}\n",
    "    edges = {node: None for node in graph.graph_dict}\n",
    "    costs[start_station] = 0\n",
    "    pq = [(0, start_station, convert_hour(start_time))]\n",
    "    prev_nodes = {node: None for node in graph.graph_dict}\n",
    "    while pq:\n",
    "        current_cost, current_station, current_time = heapq.heappop(pq)\n",
    "        \n",
    "        if current_cost > costs[current_station]:\n",
    "            continue\n",
    "        if not current_station in graph.graph_dict:\n",
    "            continue\n",
    "\n",
    "        for edge in graph.get_all_edges(current_station):\n",
    "            neighbor = edge.end_station\n",
    "            current_line = None if edges[current_station] is None else edges[current_station].line\n",
    "            new_cost = current_cost + get_time_cost(current_time, current_line, edge)\n",
    "\n",
    "            if new_cost < costs[neighbor]:\n",
    "                costs[neighbor] = new_cost\n",
    "                edges[neighbor] = edge\n",
    "                prev_nodes[neighbor] = current_station\n",
    "                heapq.heappush(pq, (new_cost, neighbor, edge.end_time))\n",
    "\n",
    "    return costs[goal_station], create_path(goal_station, edges, prev_nodes)\n"
   ]
  },
  {
   "cell_type": "markdown",
   "metadata": {},
   "source": [
    "<h3>Kod dla algorytmu A* dla kryterium czasowego<h3>"
   ]
  },
  {
   "cell_type": "code",
   "execution_count": 6,
   "metadata": {},
   "outputs": [],
   "source": [
    "def astar_time(graph, start_station, goal_station, start_time, heuristic_fn):\n",
    "    costs = {node: float('inf') for node in graph.graph_dict}\n",
    "    edges = {node: None for node in graph.graph_dict}\n",
    "    costs[start_station] = 0\n",
    "    pq = [(0, start_station)]\n",
    "    prev_nodes = {node: None for node in graph.graph_dict}\n",
    "    while pq:\n",
    "        _, current_station = heapq.heappop(pq)\n",
    "        \n",
    "        if current_station == goal_station:\n",
    "            break\n",
    "\n",
    "        if not current_station in graph.graph_dict:\n",
    "            continue\n",
    "        \n",
    "        current_time = convert_hour(start_time) if edges[current_station] is None else edges[current_station].end_time\n",
    "        current_line = None if edges[current_station] is None else edges[current_station].line\n",
    "\n",
    "        for edge in graph.get_all_edges(current_station):\n",
    "            \n",
    "            neighbor = edge.end_station\n",
    "        \n",
    "            new_cost = costs[current_station] + get_time_cost(current_time, current_line, edge)\n",
    "\n",
    "            if new_cost < costs[neighbor]:\n",
    "                costs[neighbor] = new_cost\n",
    "                edges[neighbor] = edge\n",
    "                prev_nodes[neighbor] = current_station\n",
    "                new_cost = new_cost + distance_heuristic_fn(\n",
    "                    goal_station,\n",
    "                    neighbor,\n",
    "                    heuristic_fn\n",
    "                )\n",
    "                heapq.heappush(pq, (new_cost, neighbor))\n",
    "\n",
    "    the_best_cost = costs[goal_station]\n",
    "\n",
    "    # Searching for the nearest stop to an unavailable stop\n",
    "    if goal_station not in edges:\n",
    "        min_distances = get_sorted_min_distances(goal_station, edges)\n",
    "        for station, distance in min_distances.items():\n",
    "            if station in prev_nodes:\n",
    "                edges[goal_station] = prepare_P_line_edge(goal_station, edges[station], distance)\n",
    "                prev_nodes[goal_station] = station\n",
    "                the_best_cost = convert_hour(start_time) - edges[goal_station].end_time\n",
    "                break\n",
    "\n",
    "\n",
    "    return the_best_cost, create_path(goal)"
   ]
  },
  {
   "cell_type": "markdown",
   "metadata": {},
   "source": [
    "<h3>Kod dla algorytmu A* dla kryterium przesiadek<h3>"
   ]
  },
  {
   "cell_type": "code",
   "execution_count": 7,
   "metadata": {},
   "outputs": [],
   "source": [
    "\n",
    "def astar_transfers(graph, start_station, goal_station, start_time, heuristic_fn):\n",
    "\n",
    "    costs = {start_station: 0}\n",
    "    edges = {node: None for node in graph.graph_dict}\n",
    "    pq = [(0, start_station, convert_hour(start_time))]\n",
    "    prev_nodes = {node: None for node in graph.graph_dict}\n",
    "    while pq:\n",
    "        _, current_station, current_time = heapq.heappop(pq)\n",
    "        \n",
    "        if current_station == goal_station:\n",
    "            break\n",
    "\n",
    "        if not current_station in graph.graph_dict:\n",
    "            continue\n",
    "      \n",
    "        current_line = None if edges[current_station] is None else edges[current_station].line\n",
    "\n",
    "        for edge in graph.get_all_edges(current_station):\n",
    "            neighbor = edge.end_station\n",
    "\n",
    "            cost = get_transfer_cost(edge, current_line, current_time, goal_station, graph)\n",
    "            new_cost = costs[current_station] + cost\n",
    "\n",
    "            if neighbor not in costs or new_cost < costs[neighbor]:\n",
    "\n",
    "                costs[neighbor] = new_cost\n",
    "                edges[neighbor] = edge\n",
    "                prev_nodes[neighbor] = current_station\n",
    "                priority = new_cost + transfer_heuristic_fn(\n",
    "                    neighbor,\n",
    "                    goal_station,\n",
    "                    cost > 0,\n",
    "                    graph,\n",
    "                    current_time,\n",
    "                    heuristic_fn,\n",
    "                    new_cost,\n",
    "                    edge\n",
    "                )\n",
    "                \n",
    "                heapq.heappush(pq, (priority, neighbor, edge.end_time))\n",
    "\n",
    "    return costs[goal_station], create_path(goal_station, edges, prev_nodes)\n",
    "\n"
   ]
  },
  {
   "cell_type": "markdown",
   "metadata": {},
   "source": [
    "<h3>Heurystyka dla kryterium czasowego<h3>"
   ]
  },
  {
   "cell_type": "code",
   "execution_count": 8,
   "metadata": {},
   "outputs": [],
   "source": [
    "\n",
    "def distance_heuristic_fn(\n",
    "        a: Station,\n",
    "        b: Station,\n",
    "        distance_fn: Callable[[Station, Station], float]) -> float:\n",
    "    return distance_fn(a, b) * DEGREES_TO_KILOMETERS_CONVERTER / AVERAGE_VELOCITY_IN_WROCLAW # t = s/v"
   ]
  },
  {
   "cell_type": "markdown",
   "metadata": {},
   "source": [
    "`distance_fn` to funkcja obliczająca odległość pomiędzy dwoma podanymi przystankami - zwraca wynik liczbowy."
   ]
  },
  {
   "cell_type": "markdown",
   "metadata": {},
   "source": [
    "<h3>Heurystyka dla kryterium przesiadkowego<h3>"
   ]
  },
  {
   "cell_type": "code",
   "execution_count": 9,
   "metadata": {},
   "outputs": [],
   "source": [
    "def transfer_heuristic_fn(\n",
    "        curr_station: Station,\n",
    "        goal_station: Station,\n",
    "        has_changed_line: bool,\n",
    "        graph: Graph,\n",
    "        time: int,\n",
    "        distance_fn: Callable[[Station, Station], float],\n",
    "        number_of_changes: int,\n",
    "        curr_edge: Edge\n",
    "    ) -> float:\n",
    "    \n",
    "    if has_direct_connection(curr_edge, goal_station, graph, time, TIME_DELTA) and has_changed_line:\n",
    "        return float('inf')\n",
    "    \n",
    "    if number_of_changes == 0:\n",
    "        return distance_fn(curr_station, goal_station) * DEGREES_TO_KILOMETERS_CONVERTER / AVERAGE_VELOCITY_IN_WROCLAW\n",
    "    elif number_of_changes == 1:\n",
    "        return distance_fn(curr_station, goal_station) * DEGREES_TO_KILOMETERS_CONVERTER / AVERAGE_VELOCITY_IN_WROCLAW * 2.25\n",
    "\n",
    "    return distance_fn(curr_station, goal_station) * DEGREES_TO_KILOMETERS_CONVERTER / AVERAGE_VELOCITY_IN_WROCLAW  * (number_of_changes ** 2)"
   ]
  },
  {
   "cell_type": "markdown",
   "metadata": {},
   "source": [
    "Tutaj sytuacja jest podobna - `distance_fn` to funkcja obliczająca odległość pomiędzy dwoma podanymi przystankami."
   ]
  },
  {
   "cell_type": "markdown",
   "metadata": {},
   "source": [
    "<h3>Porównanie rezultatów dla poszczególnych algorytmów cz.1<h3>\n",
    "<h4>Trasa: Kwiska - pl. Grunwaldzki<h4>\n",
    "<h4>Godzina startowa: 9:00<h4>"
   ]
  },
  {
   "cell_type": "code",
   "execution_count": 10,
   "metadata": {},
   "outputs": [
    {
     "name": "stdout",
     "output_type": "stream",
     "text": [
      "Dijkstra algorithm duration time: 0.7423 s\n",
      "You need 31 minutes to get from Kwiska to PL. GRUNWALDZKI.\n",
      "YOUR TIME: 09:00:00\n",
      "LINE |   TIME   | STATION\n",
      "-----+----------+---------------------------------\n",
      " 20  | 09:01:00 | Kwiska\n",
      " 20  | 09:02:00 | Małopanewska\n",
      " 20  | 09:04:00 | Niedźwiedzia\n",
      " 20  | 09:06:00 | Wrocław Mikołajów (Zachodnia)\n",
      "----------------------------------------\n",
      " 22  | 09:08:00 | Wrocław Mikołajów (Zachodnia)\n",
      " 22  | 09:10:00 | pl. Strzegomski (Muzeum Współczesne)\n",
      " 22  | 09:11:00 | Młodych Techników\n",
      " 22  | 09:13:00 | PL. JANA PAWŁA II\n",
      "----------------------------------------\n",
      " 10  | 09:16:00 | PL. JANA PAWŁA II\n",
      " 10  | 09:18:00 | Rynek\n",
      " 10  | 09:19:00 | Zamkowa\n",
      " 10  | 09:21:00 | Świdnicka\n",
      " 10  | 09:23:00 | GALERIA DOMINIKAŃSKA\n",
      " 10  | 09:26:00 | Urząd Wojewódzki (Muzeum Narodowe)\n",
      " 10  | 09:27:00 | Katedra\n",
      " 10  | 09:28:00 | Reja\n",
      " 10  | 09:31:00 | PL. GRUNWALDZKI\n"
     ]
    }
   ],
   "source": [
    "start_station = kwiska\n",
    "end_station = pl_grunwaldzki\n",
    "start_hour = \"09:00:00\"\n",
    "\n",
    "exercise_1a(start_station, end_station, start_hour)"
   ]
  },
  {
   "cell_type": "code",
   "execution_count": 11,
   "metadata": {},
   "outputs": [
    {
     "name": "stdout",
     "output_type": "stream",
     "text": [
      "A* algorithm (time) duration time: 0.3260 s\n",
      "You need 31 minutes to get from Kwiska to PL. GRUNWALDZKI.\n",
      "YOUR TIME: 09:00:00\n",
      "LINE |   TIME   | STATION\n",
      "-----+----------+---------------------------------\n",
      " 20  | 09:01:00 | Kwiska\n",
      " 20  | 09:02:00 | Małopanewska\n",
      " 20  | 09:04:00 | Niedźwiedzia\n",
      " 20  | 09:06:00 | Wrocław Mikołajów (Zachodnia)\n",
      "----------------------------------------\n",
      " 22  | 09:08:00 | Wrocław Mikołajów (Zachodnia)\n",
      " 22  | 09:10:00 | pl. Strzegomski (Muzeum Współczesne)\n",
      " 22  | 09:11:00 | Młodych Techników\n",
      " 22  | 09:13:00 | PL. JANA PAWŁA II\n",
      "----------------------------------------\n",
      " 10  | 09:16:00 | PL. JANA PAWŁA II\n",
      " 10  | 09:18:00 | Rynek\n",
      " 10  | 09:19:00 | Zamkowa\n",
      " 10  | 09:21:00 | Świdnicka\n",
      " 10  | 09:23:00 | GALERIA DOMINIKAŃSKA\n",
      " 10  | 09:26:00 | Urząd Wojewódzki (Muzeum Narodowe)\n",
      " 10  | 09:27:00 | Katedra\n",
      " 10  | 09:28:00 | Reja\n",
      " 10  | 09:31:00 | PL. GRUNWALDZKI\n"
     ]
    }
   ],
   "source": [
    "exercise_1b(start_station, end_station, start_hour)"
   ]
  },
  {
   "cell_type": "code",
   "execution_count": 12,
   "metadata": {},
   "outputs": [
    {
     "name": "stdout",
     "output_type": "stream",
     "text": [
      "A* algorithm (transfers) duration time: 0.3482 s\n",
      "You need 0 transfers to get from Kwiska to PL. GRUNWALDZKI.\n",
      "YOUR TIME: 09:00:00\n",
      "LINE |   TIME   | STATION\n",
      "-----+----------+---------------------------------\n",
      " 10  | 09:07:00 | Kwiska\n",
      " 10  | 09:08:00 | Małopanewska\n",
      " 10  | 09:10:00 | Niedźwiedzia\n",
      " 10  | 09:12:00 | Wrocław Mikołajów (Zachodnia)\n",
      " 10  | 09:14:00 | pl. Strzegomski (Muzeum Współczesne)\n",
      " 10  | 09:15:00 | Młodych Techników\n",
      " 10  | 09:17:00 | PL. JANA PAWŁA II\n",
      " 10  | 09:20:00 | Rynek\n",
      " 10  | 09:21:00 | Zamkowa\n",
      " 10  | 09:23:00 | Świdnicka\n",
      " 10  | 09:25:00 | GALERIA DOMINIKAŃSKA\n",
      " 10  | 09:28:00 | Urząd Wojewódzki (Muzeum Narodowe)\n",
      " 10  | 09:29:00 | Katedra\n",
      " 10  | 09:31:00 | Reja\n",
      " 10  | 09:34:00 | PL. GRUNWALDZKI\n"
     ]
    }
   ],
   "source": [
    "exercise_1c(start_station, end_station, start_hour)"
   ]
  },
  {
   "cell_type": "markdown",
   "metadata": {},
   "source": [
    "<h3>Porównanie rezultatów dla poszczególnych algorytmów cz.2<h3>\n",
    "<h4>Trasa: pl. Daniłowskiego - pl. Grunwaldzki<h4>\n",
    "<h4>Godzina startowa: 05:40:00<h4>"
   ]
  },
  {
   "cell_type": "code",
   "execution_count": 13,
   "metadata": {},
   "outputs": [
    {
     "name": "stdout",
     "output_type": "stream",
     "text": [
      "Dijkstra algorithm duration time: 0.6776 s\n",
      "You need 21 minutes to get from pl. Daniłowskiego to PL. GRUNWALDZKI.\n",
      "YOUR TIME: 05:40:00\n",
      "LINE |   TIME   | STATION\n",
      "-----+----------+---------------------------------\n",
      "130  | 05:43:00 | pl. Daniłowskiego\n",
      "130  | 05:44:00 | Berenta\n",
      "130  | 05:47:00 | KROMERA\n",
      "130  | 05:48:00 | Kromera (Czajkowskiego)\n",
      "130  | 05:49:00 | Grudziądzka\n",
      "130  | 05:50:00 | Brücknera\n",
      "----------------------------------------\n",
      "  D  | 05:51:00 | Brücknera\n",
      "  D  | 05:53:00 | Kwidzyńska\n",
      "  D  | 05:54:00 | Zacisze\n",
      "  D  | 05:55:00 | Śniadeckich\n",
      "  D  | 05:57:00 | Kochanowskiego\n",
      "  D  | 06:01:00 | PL. GRUNWALDZKI\n"
     ]
    }
   ],
   "source": [
    "start_station = pl_danilowskiego\n",
    "end_station = pl_grunwaldzki\n",
    "start_hour = \"05:40:00\"\n",
    "\n",
    "exercise_1a(start_station, end_station, start_hour)"
   ]
  },
  {
   "cell_type": "code",
   "execution_count": 14,
   "metadata": {},
   "outputs": [
    {
     "name": "stdout",
     "output_type": "stream",
     "text": [
      "A* algorithm (time) duration time: 0.0899 s\n",
      "You need 21 minutes to get from pl. Daniłowskiego to PL. GRUNWALDZKI.\n",
      "YOUR TIME: 05:40:00\n",
      "LINE |   TIME   | STATION\n",
      "-----+----------+---------------------------------\n",
      "130  | 05:43:00 | pl. Daniłowskiego\n",
      "130  | 05:44:00 | Berenta\n",
      "130  | 05:47:00 | KROMERA\n",
      "130  | 05:48:00 | Kromera (Czajkowskiego)\n",
      "130  | 05:49:00 | Grudziądzka\n",
      "130  | 05:50:00 | Brücknera\n",
      "----------------------------------------\n",
      "  D  | 05:51:00 | Brücknera\n",
      "  D  | 05:53:00 | Kwidzyńska\n",
      "  D  | 05:54:00 | Zacisze\n",
      "  D  | 05:55:00 | Śniadeckich\n",
      "  D  | 05:57:00 | Kochanowskiego\n",
      "  D  | 06:01:00 | PL. GRUNWALDZKI\n"
     ]
    }
   ],
   "source": [
    "exercise_1b(start_station, end_station, start_hour)"
   ]
  },
  {
   "cell_type": "code",
   "execution_count": 15,
   "metadata": {},
   "outputs": [
    {
     "name": "stdout",
     "output_type": "stream",
     "text": [
      "A* algorithm (transfers) duration time: 0.1509 s\n",
      "You need 0 transfers to get from pl. Daniłowskiego to PL. GRUNWALDZKI.\n",
      "YOUR TIME: 05:40:00\n",
      "LINE |   TIME   | STATION\n",
      "-----+----------+---------------------------------\n",
      "116  | 05:54:00 | pl. Daniłowskiego\n",
      "116  | 05:55:00 | Kasprowicza\n",
      "116  | 05:56:00 | Berenta\n",
      "116  | 05:59:00 | KROMERA\n",
      "116  | 06:01:00 | Kwidzyńska\n",
      "116  | 06:02:00 | Zacisze\n",
      "116  | 06:03:00 | Śniadeckich\n",
      "116  | 06:05:00 | Kochanowskiego\n",
      "116  | 06:08:00 | PL. GRUNWALDZKI\n"
     ]
    }
   ],
   "source": [
    "exercise_1c(start_station, end_station, start_hour)"
   ]
  },
  {
   "cell_type": "markdown",
   "metadata": {},
   "source": [
    "<h3>Porównanie rezultatów dla poszczególnych algorytmów cz.3<h3>\n",
    "<h4>Trasa: KOSZAROWA (Uniwersytet) - GRABISZYŃSKA (Cmentarz)<h4>\n",
    "<h4>Godzina startowa: 21:00:00<h4>"
   ]
  },
  {
   "cell_type": "code",
   "execution_count": 16,
   "metadata": {},
   "outputs": [
    {
     "name": "stdout",
     "output_type": "stream",
     "text": [
      "Dijkstra algorithm duration time: 0.6789 s\n",
      "You need 46 minutes to get from KOSZAROWA (Uniwersytet) to GRABISZYŃSKA (Cmentarz).\n",
      "YOUR TIME: 21:00:00\n",
      "LINE |   TIME   | STATION\n",
      "-----+----------+---------------------------------\n",
      "  A  | 21:07:00 | KOSZAROWA (Uniwersytet)\n",
      "  A  | 21:08:00 | KOSZAROWA (Szpital)\n",
      "----------------------------------------\n",
      "116  | 21:09:00 | KOSZAROWA (Szpital)\n",
      "116  | 21:11:00 | pl. Daniłowskiego\n",
      "----------------------------------------\n",
      "  A  | 21:12:00 | pl. Daniłowskiego\n",
      "  A  | 21:13:00 | Berenta\n",
      "  A  | 21:16:00 | KROMERA\n",
      "  A  | 21:18:00 | Mosty Warszawskie\n",
      "  A  | 21:20:00 | Wyszyńskiego\n",
      "  A  | 21:22:00 | Ogród Botaniczny\n",
      "  A  | 21:23:00 | Katedra\n",
      "  A  | 21:24:00 | Urząd Wojewódzki (Muzeum Narodowe)\n",
      "  A  | 21:25:00 | Poczta Główna\n",
      "  A  | 21:27:00 | skwer Krasińskiego\n",
      "  A  | 21:28:00 | Wzgórze Partyzantów\n",
      "  A  | 21:30:00 | Renoma\n",
      "  A  | 21:32:00 | Arkady (Capitol)\n",
      "  A  | 21:36:00 | Pl. Hirszfelda\n",
      "  A  | 21:38:00 | Krucza\n",
      "  A  | 21:39:00 | Krucza (Mielecka)\n",
      "  A  | 21:41:00 | Inżynierska\n",
      "  A  | 21:43:00 | Aleja Pracy\n",
      "  A  | 21:45:00 | FAT\n",
      "  A  | 21:46:00 | GRABISZYŃSKA (Cmentarz)\n"
     ]
    }
   ],
   "source": [
    "start_station = koszarowa_uniwersytet\n",
    "end_station = grabiszynska_cmentarz\n",
    "start_hour = \"21:00:00\"\n",
    "\n",
    "exercise_1a(start_station, end_station, start_hour)"
   ]
  },
  {
   "cell_type": "code",
   "execution_count": 17,
   "metadata": {},
   "outputs": [
    {
     "name": "stdout",
     "output_type": "stream",
     "text": [
      "A* algorithm (time) duration time: 0.1905 s\n",
      "You need 46 minutes to get from KOSZAROWA (Uniwersytet) to GRABISZYŃSKA (Cmentarz).\n",
      "YOUR TIME: 21:00:00\n",
      "LINE |   TIME   | STATION\n",
      "-----+----------+---------------------------------\n",
      "  A  | 21:07:00 | KOSZAROWA (Uniwersytet)\n",
      "  A  | 21:08:00 | KOSZAROWA (Szpital)\n",
      "----------------------------------------\n",
      "116  | 21:09:00 | KOSZAROWA (Szpital)\n",
      "116  | 21:11:00 | pl. Daniłowskiego\n",
      "----------------------------------------\n",
      "  A  | 21:12:00 | pl. Daniłowskiego\n",
      "  A  | 21:13:00 | Berenta\n",
      "  A  | 21:16:00 | KROMERA\n",
      "  A  | 21:18:00 | Mosty Warszawskie\n",
      "  A  | 21:20:00 | Wyszyńskiego\n",
      "  A  | 21:22:00 | Ogród Botaniczny\n",
      "  A  | 21:23:00 | Katedra\n",
      "  A  | 21:24:00 | Urząd Wojewódzki (Muzeum Narodowe)\n",
      "  A  | 21:25:00 | Poczta Główna\n",
      "  A  | 21:27:00 | skwer Krasińskiego\n",
      "  A  | 21:28:00 | Wzgórze Partyzantów\n",
      "  A  | 21:30:00 | Renoma\n",
      "  A  | 21:32:00 | Arkady (Capitol)\n",
      "  A  | 21:36:00 | Pl. Hirszfelda\n",
      "  A  | 21:38:00 | Krucza\n",
      "  A  | 21:39:00 | Krucza (Mielecka)\n",
      "  A  | 21:41:00 | Inżynierska\n",
      "  A  | 21:43:00 | Aleja Pracy\n",
      "  A  | 21:45:00 | FAT\n",
      "  A  | 21:46:00 | GRABISZYŃSKA (Cmentarz)\n"
     ]
    }
   ],
   "source": [
    "exercise_1b(start_station, end_station, start_hour)"
   ]
  },
  {
   "cell_type": "code",
   "execution_count": 18,
   "metadata": {},
   "outputs": [
    {
     "name": "stdout",
     "output_type": "stream",
     "text": [
      "A* algorithm (transfers) duration time: 0.1375 s\n",
      "You need 0 transfers to get from KOSZAROWA (Uniwersytet) to GRABISZYŃSKA (Cmentarz).\n",
      "YOUR TIME: 21:00:00\n",
      "LINE |   TIME   | STATION\n",
      "-----+----------+---------------------------------\n",
      "  A  | 21:07:00 | KOSZAROWA (Uniwersytet)\n",
      "  A  | 21:08:00 | KOSZAROWA (Szpital)\n",
      "  A  | 21:12:00 | pl. Daniłowskiego\n",
      "  A  | 21:13:00 | Berenta\n",
      "  A  | 21:16:00 | KROMERA\n",
      "  A  | 21:18:00 | Mosty Warszawskie\n",
      "  A  | 21:20:00 | Wyszyńskiego\n",
      "  A  | 21:22:00 | Ogród Botaniczny\n",
      "  A  | 21:23:00 | Katedra\n",
      "  A  | 21:24:00 | Urząd Wojewódzki (Muzeum Narodowe)\n",
      "  A  | 21:25:00 | Poczta Główna\n",
      "  A  | 21:27:00 | skwer Krasińskiego\n",
      "  A  | 21:28:00 | Wzgórze Partyzantów\n",
      "  A  | 21:30:00 | Renoma\n",
      "  A  | 21:32:00 | Arkady (Capitol)\n",
      "  A  | 21:36:00 | Pl. Hirszfelda\n",
      "  A  | 21:38:00 | Krucza\n",
      "  A  | 21:39:00 | Krucza (Mielecka)\n",
      "  A  | 21:41:00 | Inżynierska\n",
      "  A  | 21:43:00 | Aleja Pracy\n",
      "  A  | 21:45:00 | FAT\n",
      "  A  | 21:46:00 | GRABISZYŃSKA (Cmentarz)\n"
     ]
    }
   ],
   "source": [
    "exercise_1c(start_station, end_station, start_hour)"
   ]
  },
  {
   "cell_type": "markdown",
   "metadata": {},
   "source": [
    "<h3>Porównanie średnich oraz min./max. czasów dla poszczególnych algorytmów<h3>"
   ]
  },
  {
   "cell_type": "code",
   "execution_count": 19,
   "metadata": {},
   "outputs": [
    {
     "name": "stdout",
     "output_type": "stream",
     "text": [
      "Dijkstra average time: 0.7068644762039185 s\n",
      "Dijkstra min and max time: 0.6565959453582764/0.7835137844085693 s\n",
      "\n",
      "A* (time) average time: 0.1536926031112671 s\n",
      "A* (time) min and max time: 0.14257287979125977/0.166304349899292 s\n",
      "\n",
      "A* (transfers) average time: 0.1397191047668457 s\n",
      "A* (transfers) min and max time: 0.13191986083984375/0.14806818962097168 s\n"
     ]
    }
   ],
   "source": [
    "my_timer = Timer()\n",
    "dijkstra_avg_time, dijkstra_min_time, dijkstra_max_time = my_timer.get_stats_time(10, exercise_1a, start_station, end_station, start_hour, False)\n",
    "astar_time_avg_time, astar_time_min_time,astar_time_max_time = my_timer.get_stats_time(10, exercise_1c, start_station, end_station, start_hour, False)\n",
    "astar_transfers_avg_time, astar_transfers_min_time, astar_transfers_max_time = my_timer.get_stats_time(10, exercise_1c, start_station, end_station, start_hour, False)\n",
    "\n",
    "print(f\"Dijkstra average time: {dijkstra_avg_time} s\")\n",
    "print(f\"Dijkstra min and max time: {dijkstra_min_time}/{dijkstra_max_time} s\\n\")\n",
    "\n",
    "print(f\"A* (time) average time: {astar_time_avg_time} s\")\n",
    "print(f\"A* (time) min and max time: {astar_time_min_time}/{astar_time_max_time} s\\n\")\n",
    "\n",
    "print(f\"A* (transfers) average time: {astar_transfers_avg_time} s\")\n",
    "print(f\"A* (transfers) min and max time: {astar_transfers_min_time}/{astar_transfers_max_time} s\")"
   ]
  },
  {
   "cell_type": "markdown",
   "metadata": {},
   "source": [
    "<h3>Porównanie czasów dla różnych funkcji obliczającej dystans (Euclidean, Manhattan)<h3>"
   ]
  },
  {
   "cell_type": "code",
   "execution_count": 20,
   "metadata": {},
   "outputs": [
    {
     "name": "stdout",
     "output_type": "stream",
     "text": [
      "A* z kryterium czasowym\n",
      "Euclidean average time: 0.15572044849395753 s\n",
      "Euclidean min/max time: 0.13040852546691895/0.17759966850280762 s\n",
      "Manhattan average time: 0.16872291564941405 s\n",
      "Manhattan min/max time: 0.15711236000061035/0.19431233406066895 s\n",
      "\n",
      "A* z kryterium przesiadek\n",
      "Euclidean average time: 0.13644764423370362 s\n",
      "Euclidean min/max time: 0.12964701652526855/0.13962173461914062 s\n",
      "Manhattan average time: 0.14396347999572753 s\n",
      "Manhattan min/max time: 0.12651610374450684/0.17034173011779785 s\n"
     ]
    }
   ],
   "source": [
    "astar_time_euclidean_avg_time, astar_time_euclidean_min_time, astar_time_euclidean_max_time = my_timer.get_stats_time(10, exercise_1c, start_station, end_station, start_hour, False, False, euclidean_distance_stations)\n",
    "astar_time_manhattan_avg_time, astar_time_manhattan_min_time, astar_time_manhattan_max_time = my_timer.get_stats_time(10, exercise_1c, start_station, end_station, start_hour, False, False, manhattan_distance_stations)\n",
    "\n",
    "\n",
    "astar_transfers_euclidean_avg_time, astar_transfers_euclidean_min_time, astar_transfers_euclidean_max_time = my_timer.get_stats_time(10, exercise_1c, start_station, end_station, start_hour, False, False, euclidean_distance_stations)\n",
    "astar_transfers_manhattan_avg_time, astar_transfers_manhattan_min_time, astar_transfers_manhattan_max_time = my_timer.get_stats_time(10, exercise_1c, start_station, end_station, start_hour, False, False, manhattan_distance_stations)\n",
    "\n",
    "print(\"A* z kryterium czasowym\")\n",
    "print(f\"Euclidean average time: {astar_time_euclidean_avg_time} s\")\n",
    "print(f\"Euclidean min/max time: {astar_time_euclidean_min_time}/{astar_time_euclidean_max_time} s\")\n",
    "\n",
    "\n",
    "print(f\"Manhattan average time: {astar_time_manhattan_avg_time} s\")\n",
    "print(f\"Manhattan min/max time: {astar_time_manhattan_min_time}/{astar_time_manhattan_max_time} s\")\n",
    "\n",
    "\n",
    "print(\"\\nA* z kryterium przesiadek\")\n",
    "print(f\"Euclidean average time: {astar_transfers_euclidean_avg_time} s\")\n",
    "print(f\"Euclidean min/max time: {astar_transfers_euclidean_min_time}/{astar_transfers_euclidean_max_time} s\")\n",
    "\n",
    "\n",
    "print(f\"Manhattan average time: {astar_transfers_manhattan_avg_time} s\")\n",
    "print(f\"Manhattan min/max time: {astar_transfers_manhattan_min_time}/{astar_transfers_manhattan_max_time} s\")\n",
    "\n"
   ]
  },
  {
   "cell_type": "markdown",
   "metadata": {},
   "source": [
    "<h3>Porównanie tras dla zastosowanej funkcji dystansu w funkcji heurystycznej<h3>"
   ]
  },
  {
   "cell_type": "code",
   "execution_count": 21,
   "metadata": {},
   "outputs": [
    {
     "name": "stdout",
     "output_type": "stream",
     "text": [
      "A* - kryterium czasowe\n",
      "Euclidean:\n",
      "A* algorithm (time) duration time: 0.2234 s\n",
      "You need 46 minutes to get from KOSZAROWA (Uniwersytet) to GRABISZYŃSKA (Cmentarz).\n",
      "YOUR TIME: 21:00:00\n",
      "LINE |   TIME   | STATION\n",
      "-----+----------+---------------------------------\n",
      "  A  | 21:07:00 | KOSZAROWA (Uniwersytet)\n",
      "  A  | 21:08:00 | KOSZAROWA (Szpital)\n",
      "----------------------------------------\n",
      "116  | 21:09:00 | KOSZAROWA (Szpital)\n",
      "116  | 21:11:00 | pl. Daniłowskiego\n",
      "----------------------------------------\n",
      "  A  | 21:12:00 | pl. Daniłowskiego\n",
      "  A  | 21:13:00 | Berenta\n",
      "  A  | 21:16:00 | KROMERA\n",
      "  A  | 21:18:00 | Mosty Warszawskie\n",
      "  A  | 21:20:00 | Wyszyńskiego\n",
      "  A  | 21:22:00 | Ogród Botaniczny\n",
      "  A  | 21:23:00 | Katedra\n",
      "  A  | 21:24:00 | Urząd Wojewódzki (Muzeum Narodowe)\n",
      "  A  | 21:25:00 | Poczta Główna\n",
      "  A  | 21:27:00 | skwer Krasińskiego\n",
      "  A  | 21:28:00 | Wzgórze Partyzantów\n",
      "  A  | 21:30:00 | Renoma\n",
      "  A  | 21:32:00 | Arkady (Capitol)\n",
      "  A  | 21:36:00 | Pl. Hirszfelda\n",
      "  A  | 21:38:00 | Krucza\n",
      "  A  | 21:39:00 | Krucza (Mielecka)\n",
      "  A  | 21:41:00 | Inżynierska\n",
      "  A  | 21:43:00 | Aleja Pracy\n",
      "  A  | 21:45:00 | FAT\n",
      "  A  | 21:46:00 | GRABISZYŃSKA (Cmentarz)\n",
      "\n",
      "Manhattan:\n",
      "A* algorithm (time) duration time: 0.1962 s\n",
      "You need 46 minutes to get from KOSZAROWA (Uniwersytet) to GRABISZYŃSKA (Cmentarz).\n",
      "YOUR TIME: 21:00:00\n",
      "LINE |   TIME   | STATION\n",
      "-----+----------+---------------------------------\n",
      "  A  | 21:07:00 | KOSZAROWA (Uniwersytet)\n",
      "  A  | 21:08:00 | KOSZAROWA (Szpital)\n",
      "----------------------------------------\n",
      "116  | 21:09:00 | KOSZAROWA (Szpital)\n",
      "116  | 21:11:00 | pl. Daniłowskiego\n",
      "----------------------------------------\n",
      "  A  | 21:12:00 | pl. Daniłowskiego\n",
      "  A  | 21:13:00 | Berenta\n",
      "  A  | 21:16:00 | KROMERA\n",
      "  A  | 21:18:00 | Mosty Warszawskie\n",
      "  A  | 21:20:00 | Wyszyńskiego\n",
      "  A  | 21:22:00 | Ogród Botaniczny\n",
      "  A  | 21:23:00 | Katedra\n",
      "  A  | 21:24:00 | Urząd Wojewódzki (Muzeum Narodowe)\n",
      "  A  | 21:25:00 | Poczta Główna\n",
      "  A  | 21:27:00 | skwer Krasińskiego\n",
      "  A  | 21:28:00 | Wzgórze Partyzantów\n",
      "  A  | 21:30:00 | Renoma\n",
      "  A  | 21:32:00 | Arkady (Capitol)\n",
      "  A  | 21:36:00 | Pl. Hirszfelda\n",
      "  A  | 21:38:00 | Krucza\n",
      "  A  | 21:39:00 | Krucza (Mielecka)\n",
      "  A  | 21:41:00 | Inżynierska\n",
      "  A  | 21:43:00 | Aleja Pracy\n",
      "  A  | 21:45:00 | FAT\n",
      "  A  | 21:46:00 | GRABISZYŃSKA (Cmentarz)\n"
     ]
    }
   ],
   "source": [
    "print(\"A* - kryterium czasowe\")\n",
    "print(\"Euclidean:\")\n",
    "exercise_1b(start_station, end_station, start_hour, True, False, euclidean_distance_stations)\n",
    "\n",
    "print(\"\\nManhattan:\")\n",
    "exercise_1b(start_station, end_station, start_hour, True, False, manhattan_distance_stations)"
   ]
  },
  {
   "cell_type": "code",
   "execution_count": 22,
   "metadata": {},
   "outputs": [
    {
     "name": "stdout",
     "output_type": "stream",
     "text": [
      "A* - kryterium przesiadek\n",
      "Euclidean:\n",
      "A* algorithm (transfers) duration time: 0.1776 s\n",
      "You need 0 transfers to get from KOSZAROWA (Uniwersytet) to GRABISZYŃSKA (Cmentarz).\n",
      "YOUR TIME: 21:00:00\n",
      "LINE |   TIME   | STATION\n",
      "-----+----------+---------------------------------\n",
      "  A  | 21:07:00 | KOSZAROWA (Uniwersytet)\n",
      "  A  | 21:08:00 | KOSZAROWA (Szpital)\n",
      "  A  | 21:12:00 | pl. Daniłowskiego\n",
      "  A  | 21:13:00 | Berenta\n",
      "  A  | 21:16:00 | KROMERA\n",
      "  A  | 21:18:00 | Mosty Warszawskie\n",
      "  A  | 21:20:00 | Wyszyńskiego\n",
      "  A  | 21:22:00 | Ogród Botaniczny\n",
      "  A  | 21:23:00 | Katedra\n",
      "  A  | 21:24:00 | Urząd Wojewódzki (Muzeum Narodowe)\n",
      "  A  | 21:25:00 | Poczta Główna\n",
      "  A  | 21:27:00 | skwer Krasińskiego\n",
      "  A  | 21:28:00 | Wzgórze Partyzantów\n",
      "  A  | 21:30:00 | Renoma\n",
      "  A  | 21:32:00 | Arkady (Capitol)\n",
      "  A  | 21:36:00 | Pl. Hirszfelda\n",
      "  A  | 21:38:00 | Krucza\n",
      "  A  | 21:39:00 | Krucza (Mielecka)\n",
      "  A  | 21:41:00 | Inżynierska\n",
      "  A  | 21:43:00 | Aleja Pracy\n",
      "  A  | 21:45:00 | FAT\n",
      "  A  | 21:46:00 | GRABISZYŃSKA (Cmentarz)\n",
      "\n",
      "Manhattan:\n",
      "A* algorithm (transfers) duration time: 0.1676 s\n",
      "You need 0 transfers to get from KOSZAROWA (Uniwersytet) to GRABISZYŃSKA (Cmentarz).\n",
      "YOUR TIME: 21:00:00\n",
      "LINE |   TIME   | STATION\n",
      "-----+----------+---------------------------------\n",
      "  A  | 21:07:00 | KOSZAROWA (Uniwersytet)\n",
      "  A  | 21:08:00 | KOSZAROWA (Szpital)\n",
      "  A  | 21:12:00 | pl. Daniłowskiego\n",
      "  A  | 21:13:00 | Berenta\n",
      "  A  | 21:16:00 | KROMERA\n",
      "  A  | 21:18:00 | Mosty Warszawskie\n",
      "  A  | 21:20:00 | Wyszyńskiego\n",
      "  A  | 21:22:00 | Ogród Botaniczny\n",
      "  A  | 21:23:00 | Katedra\n",
      "  A  | 21:24:00 | Urząd Wojewódzki (Muzeum Narodowe)\n",
      "  A  | 21:25:00 | Poczta Główna\n",
      "  A  | 21:27:00 | skwer Krasińskiego\n",
      "  A  | 21:28:00 | Wzgórze Partyzantów\n",
      "  A  | 21:30:00 | Renoma\n",
      "  A  | 21:32:00 | Arkady (Capitol)\n",
      "  A  | 21:36:00 | Pl. Hirszfelda\n",
      "  A  | 21:38:00 | Krucza\n",
      "  A  | 21:39:00 | Krucza (Mielecka)\n",
      "  A  | 21:41:00 | Inżynierska\n",
      "  A  | 21:43:00 | Aleja Pracy\n",
      "  A  | 21:45:00 | FAT\n",
      "  A  | 21:46:00 | GRABISZYŃSKA (Cmentarz)\n"
     ]
    }
   ],
   "source": [
    "print(\"A* - kryterium przesiadek\")\n",
    "print(\"Euclidean:\")\n",
    "exercise_1c(start_station, end_station, start_hour, True, False, euclidean_distance_stations)\n",
    "\n",
    "print(\"\\nManhattan:\")\n",
    "exercise_1c(start_station, end_station, start_hour, True, False, manhattan_distance_stations)"
   ]
  },
  {
   "cell_type": "code",
   "execution_count": 23,
   "metadata": {},
   "outputs": [
    {
     "name": "stdout",
     "output_type": "stream",
     "text": [
      "A* - kryterium czasowe\n",
      "Euclidean:\n",
      "A* algorithm (time) duration time: 0.0914 s\n",
      "You need 21 minutes to get from pl. Daniłowskiego to PL. GRUNWALDZKI.\n",
      "YOUR TIME: 05:40:00\n",
      "LINE |   TIME   | STATION\n",
      "-----+----------+---------------------------------\n",
      "130  | 05:43:00 | pl. Daniłowskiego\n",
      "130  | 05:44:00 | Berenta\n",
      "130  | 05:47:00 | KROMERA\n",
      "130  | 05:48:00 | Kromera (Czajkowskiego)\n",
      "130  | 05:49:00 | Grudziądzka\n",
      "130  | 05:50:00 | Brücknera\n",
      "----------------------------------------\n",
      "  D  | 05:51:00 | Brücknera\n",
      "  D  | 05:53:00 | Kwidzyńska\n",
      "  D  | 05:54:00 | Zacisze\n",
      "  D  | 05:55:00 | Śniadeckich\n",
      "  D  | 05:57:00 | Kochanowskiego\n",
      "  D  | 06:01:00 | PL. GRUNWALDZKI\n",
      "\n",
      "Manhattan:\n",
      "A* algorithm (time) duration time: 0.0922 s\n",
      "You need 21 minutes to get from pl. Daniłowskiego to PL. GRUNWALDZKI.\n",
      "YOUR TIME: 05:40:00\n",
      "LINE |   TIME   | STATION\n",
      "-----+----------+---------------------------------\n",
      "130  | 05:43:00 | pl. Daniłowskiego\n",
      "130  | 05:44:00 | Berenta\n",
      "130  | 05:47:00 | KROMERA\n",
      "130  | 05:48:00 | Kromera (Czajkowskiego)\n",
      "130  | 05:49:00 | Grudziądzka\n",
      "130  | 05:50:00 | Brücknera\n",
      "----------------------------------------\n",
      "  D  | 05:51:00 | Brücknera\n",
      "  D  | 05:53:00 | Kwidzyńska\n",
      "  D  | 05:54:00 | Zacisze\n",
      "  D  | 05:55:00 | Śniadeckich\n",
      "  D  | 05:57:00 | Kochanowskiego\n",
      "  D  | 06:01:00 | PL. GRUNWALDZKI\n"
     ]
    }
   ],
   "source": [
    "start_station = pl_danilowskiego\n",
    "end_station = pl_grunwaldzki\n",
    "start_hour = \"05:40:00\"\n",
    "\n",
    "print(\"A* - kryterium czasowe\")\n",
    "print(\"Euclidean:\")\n",
    "exercise_1b(start_station, end_station, start_hour, True, False, euclidean_distance_stations)\n",
    "\n",
    "print(\"\\nManhattan:\")\n",
    "exercise_1b(start_station, end_station, start_hour, True, False, manhattan_distance_stations)"
   ]
  },
  {
   "cell_type": "code",
   "execution_count": 24,
   "metadata": {},
   "outputs": [
    {
     "name": "stdout",
     "output_type": "stream",
     "text": [
      "A* - kryterium przesiadek\n",
      "Euclidean:\n",
      "A* algorithm (transfers) duration time: 0.1790 s\n",
      "You need 0 transfers to get from pl. Daniłowskiego to PL. GRUNWALDZKI.\n",
      "YOUR TIME: 05:40:00\n",
      "LINE |   TIME   | STATION\n",
      "-----+----------+---------------------------------\n",
      "116  | 05:54:00 | pl. Daniłowskiego\n",
      "116  | 05:55:00 | Kasprowicza\n",
      "116  | 05:56:00 | Berenta\n",
      "116  | 05:59:00 | KROMERA\n",
      "116  | 06:01:00 | Kwidzyńska\n",
      "116  | 06:02:00 | Zacisze\n",
      "116  | 06:03:00 | Śniadeckich\n",
      "116  | 06:05:00 | Kochanowskiego\n",
      "116  | 06:08:00 | PL. GRUNWALDZKI\n",
      "\n",
      "Manhattan:\n",
      "A* algorithm (transfers) duration time: 0.1459 s\n",
      "You need 0 transfers to get from pl. Daniłowskiego to PL. GRUNWALDZKI.\n",
      "YOUR TIME: 05:40:00\n",
      "LINE |   TIME   | STATION\n",
      "-----+----------+---------------------------------\n",
      "116  | 05:54:00 | pl. Daniłowskiego\n",
      "116  | 05:55:00 | Kasprowicza\n",
      "116  | 05:56:00 | Berenta\n",
      "116  | 05:59:00 | KROMERA\n",
      "116  | 06:01:00 | Kwidzyńska\n",
      "116  | 06:02:00 | Zacisze\n",
      "116  | 06:03:00 | Śniadeckich\n",
      "116  | 06:05:00 | Kochanowskiego\n",
      "116  | 06:08:00 | PL. GRUNWALDZKI\n"
     ]
    }
   ],
   "source": [
    "print(\"A* - kryterium przesiadek\")\n",
    "print(\"Euclidean:\")\n",
    "exercise_1c(start_station, end_station, start_hour, True, False, euclidean_distance_stations)\n",
    "\n",
    "print(\"\\nManhattan:\")\n",
    "exercise_1c(start_station, end_station, start_hour, True, False, manhattan_distance_stations)"
   ]
  },
  {
   "cell_type": "code",
   "execution_count": 25,
   "metadata": {},
   "outputs": [
    {
     "name": "stdout",
     "output_type": "stream",
     "text": [
      "A* - kryterium czasowe\n",
      "Euclidean:\n",
      "A* algorithm (time) duration time: 0.3102 s\n",
      "You need 31 minutes to get from Kwiska to PL. GRUNWALDZKI.\n",
      "YOUR TIME: 09:00:00\n",
      "LINE |   TIME   | STATION\n",
      "-----+----------+---------------------------------\n",
      " 20  | 09:01:00 | Kwiska\n",
      " 20  | 09:02:00 | Małopanewska\n",
      " 20  | 09:04:00 | Niedźwiedzia\n",
      " 20  | 09:06:00 | Wrocław Mikołajów (Zachodnia)\n",
      "----------------------------------------\n",
      " 22  | 09:08:00 | Wrocław Mikołajów (Zachodnia)\n",
      " 22  | 09:10:00 | pl. Strzegomski (Muzeum Współczesne)\n",
      " 22  | 09:11:00 | Młodych Techników\n",
      " 22  | 09:13:00 | PL. JANA PAWŁA II\n",
      "----------------------------------------\n",
      " 10  | 09:16:00 | PL. JANA PAWŁA II\n",
      " 10  | 09:18:00 | Rynek\n",
      " 10  | 09:19:00 | Zamkowa\n",
      " 10  | 09:21:00 | Świdnicka\n",
      " 10  | 09:23:00 | GALERIA DOMINIKAŃSKA\n",
      " 10  | 09:26:00 | Urząd Wojewódzki (Muzeum Narodowe)\n",
      " 10  | 09:27:00 | Katedra\n",
      " 10  | 09:28:00 | Reja\n",
      " 10  | 09:31:00 | PL. GRUNWALDZKI\n",
      "\n",
      "Manhattan:\n",
      "A* algorithm (time) duration time: 0.2861 s\n",
      "You need 31 minutes to get from Kwiska to PL. GRUNWALDZKI.\n",
      "YOUR TIME: 09:00:00\n",
      "LINE |   TIME   | STATION\n",
      "-----+----------+---------------------------------\n",
      " 20  | 09:01:00 | Kwiska\n",
      " 20  | 09:02:00 | Małopanewska\n",
      " 20  | 09:04:00 | Niedźwiedzia\n",
      " 20  | 09:06:00 | Wrocław Mikołajów (Zachodnia)\n",
      "----------------------------------------\n",
      " 22  | 09:08:00 | Wrocław Mikołajów (Zachodnia)\n",
      " 22  | 09:10:00 | pl. Strzegomski (Muzeum Współczesne)\n",
      " 22  | 09:11:00 | Młodych Techników\n",
      " 22  | 09:13:00 | PL. JANA PAWŁA II\n",
      "----------------------------------------\n",
      " 10  | 09:16:00 | PL. JANA PAWŁA II\n",
      " 10  | 09:18:00 | Rynek\n",
      " 10  | 09:19:00 | Zamkowa\n",
      " 10  | 09:21:00 | Świdnicka\n",
      " 10  | 09:23:00 | GALERIA DOMINIKAŃSKA\n",
      " 10  | 09:26:00 | Urząd Wojewódzki (Muzeum Narodowe)\n",
      " 10  | 09:27:00 | Katedra\n",
      " 10  | 09:28:00 | Reja\n",
      " 10  | 09:31:00 | PL. GRUNWALDZKI\n"
     ]
    }
   ],
   "source": [
    "start_station = kwiska\n",
    "end_station = pl_grunwaldzki\n",
    "start_hour = \"09:00:00\"\n",
    "\n",
    "print(\"A* - kryterium czasowe\")\n",
    "print(\"Euclidean:\")\n",
    "exercise_1b(start_station, end_station, start_hour, True, False, euclidean_distance_stations)\n",
    "\n",
    "print(\"\\nManhattan:\")\n",
    "exercise_1b(start_station, end_station, start_hour, True, False, manhattan_distance_stations)"
   ]
  },
  {
   "cell_type": "code",
   "execution_count": 26,
   "metadata": {},
   "outputs": [
    {
     "name": "stdout",
     "output_type": "stream",
     "text": [
      "A* - kryterium przesiadek\n",
      "Euclidean:\n",
      "A* algorithm (transfers) duration time: 0.2936 s\n",
      "You need 0 transfers to get from Kwiska to PL. GRUNWALDZKI.\n",
      "YOUR TIME: 09:00:00\n",
      "LINE |   TIME   | STATION\n",
      "-----+----------+---------------------------------\n",
      " 10  | 09:07:00 | Kwiska\n",
      " 10  | 09:08:00 | Małopanewska\n",
      " 10  | 09:10:00 | Niedźwiedzia\n",
      " 10  | 09:12:00 | Wrocław Mikołajów (Zachodnia)\n",
      " 10  | 09:14:00 | pl. Strzegomski (Muzeum Współczesne)\n",
      " 10  | 09:15:00 | Młodych Techników\n",
      " 10  | 09:17:00 | PL. JANA PAWŁA II\n",
      " 10  | 09:20:00 | Rynek\n",
      " 10  | 09:21:00 | Zamkowa\n",
      " 10  | 09:23:00 | Świdnicka\n",
      " 10  | 09:25:00 | GALERIA DOMINIKAŃSKA\n",
      " 10  | 09:28:00 | Urząd Wojewódzki (Muzeum Narodowe)\n",
      " 10  | 09:29:00 | Katedra\n",
      " 10  | 09:31:00 | Reja\n",
      " 10  | 09:34:00 | PL. GRUNWALDZKI\n",
      "\n",
      "Manhattan:\n",
      "A* algorithm (transfers) duration time: 0.3791 s\n",
      "You need 0 transfers to get from Kwiska to PL. GRUNWALDZKI.\n",
      "YOUR TIME: 09:00:00\n",
      "LINE |   TIME   | STATION\n",
      "-----+----------+---------------------------------\n",
      " 10  | 09:07:00 | Kwiska\n",
      " 10  | 09:08:00 | Małopanewska\n",
      " 10  | 09:10:00 | Niedźwiedzia\n",
      " 10  | 09:12:00 | Wrocław Mikołajów (Zachodnia)\n",
      " 10  | 09:14:00 | pl. Strzegomski (Muzeum Współczesne)\n",
      " 10  | 09:15:00 | Młodych Techników\n",
      " 10  | 09:17:00 | PL. JANA PAWŁA II\n",
      " 10  | 09:20:00 | Rynek\n",
      " 10  | 09:21:00 | Zamkowa\n",
      " 10  | 09:23:00 | Świdnicka\n",
      " 10  | 09:25:00 | GALERIA DOMINIKAŃSKA\n",
      " 10  | 09:28:00 | Urząd Wojewódzki (Muzeum Narodowe)\n",
      " 10  | 09:29:00 | Katedra\n",
      " 10  | 09:31:00 | Reja\n",
      " 10  | 09:34:00 | PL. GRUNWALDZKI\n"
     ]
    }
   ],
   "source": [
    "print(\"A* - kryterium przesiadek\")\n",
    "print(\"Euclidean:\")\n",
    "exercise_1c(start_station, end_station, start_hour, True, False, euclidean_distance_stations)\n",
    "\n",
    "print(\"\\nManhattan:\")\n",
    "exercise_1c(start_station, end_station, start_hour, True, False, manhattan_distance_stations)"
   ]
  },
  {
   "cell_type": "markdown",
   "metadata": {},
   "source": [
    "<h3>Kod dla algorytmu Tabu search<h3>"
   ]
  },
  {
   "cell_type": "code",
   "execution_count": 27,
   "metadata": {},
   "outputs": [],
   "source": [
    "def tabu_search(start_station, stations_to_visit, start_time, graph, to_print: bool = False, heuristic_fn = manhattan_distance_stations):\n",
    "    aspiration_criteria = 100\n",
    "    if start_station == None or stations_to_visit == []:\n",
    "        return\n",
    "    turns_improved = 0\n",
    "    improve_thresh = 2 * math.floor(math.sqrt(MAX_ITERATIONS))\n",
    "    tabu_list = []\n",
    "    tabu_tenure = len(stations_to_visit)\n",
    "    current_solution = [start_station] + stations_to_visit + [start_station]\n",
    "    best_solution = current_solution[:]\n",
    "    best_solution_cost, best_solution_edges = get_solution_cost(best_solution, start_time, graph, heuristic_fn)\n",
    "\n",
    "    for iteration in range(MAX_ITERATIONS):\n",
    "        if turns_improved > improve_thresh:\n",
    "            break\n",
    "        best_neighbor = None\n",
    "        best_neighbor_cost = float('inf')\n",
    "        best_neighbor_edges = []\n",
    "        tabu_candidate = (0,0)\n",
    "        for i in range(1, len(stations_to_visit) + 1):\n",
    "            for j in range(i+1, len(stations_to_visit) + 1):\n",
    "                neighbor = current_solution[:]\n",
    "                neighbor[i], neighbor[j] = neighbor[j], neighbor[i]\n",
    "                neighbor_cost, neighbor_edges = get_solution_cost(neighbor, start_time, graph, heuristic_fn)\n",
    "                if (i,j) not in tabu_list or neighbor_cost < aspiration_criteria:\n",
    "                    if neighbor_cost < best_neighbor_cost:\n",
    "                        best_neighbor = neighbor[:]\n",
    "                        best_neighbor_cost = neighbor_cost\n",
    "                        best_neighbor_edges = neighbor_edges\n",
    "                        tabu_candidate = (i,j)\n",
    "        if best_neighbor is not None:\n",
    "            current_solution = best_neighbor[:]\n",
    "            tabu_list.append(tabu_candidate)\n",
    "\n",
    "            if len(tabu_list) > tabu_tenure:\n",
    "                tabu_list.pop(0)\n",
    "\n",
    "            if best_neighbor_cost < best_solution_cost:\n",
    "                best_solution = best_neighbor[:]\n",
    "                best_solution_cost = best_neighbor_cost\n",
    "                best_solution_edges = best_neighbor_edges\n",
    "                turns_improved = 0\n",
    "            else:\n",
    "                turns_improved = turns_improved + 1\n",
    "\n",
    "        if to_print: print(\"Iteration {}: Best solution cost = {}\".format(iteration, best_solution_cost))\n",
    "\n",
    "    if to_print:\n",
    "        print_best_solution(best_solution)\n",
    "        print(f\"Best solution cost: {best_solution_cost} minutes\")\n",
    "        print(f\"Start time: {start_time}\")\n",
    "        print_formatted_edges(start_station, best_solution_edges)\n",
    "\n",
    "    return best_neighbor_cost, best_solution, best_neighbor_edges"
   ]
  },
  {
   "cell_type": "markdown",
   "metadata": {},
   "source": [
    "<h3>Rezultat dla algorytmu Tabu search<h3>"
   ]
  },
  {
   "cell_type": "code",
   "execution_count": 28,
   "metadata": {},
   "outputs": [
    {
     "name": "stdout",
     "output_type": "stream",
     "text": [
      "Iteration 0: Best solution cost = 126\n",
      "Iteration 1: Best solution cost = 126\n",
      "Iteration 2: Best solution cost = 126\n",
      "Iteration 3: Best solution cost = 126\n",
      "Iteration 4: Best solution cost = 126\n",
      "Iteration 5: Best solution cost = 126\n",
      "Iteration 6: Best solution cost = 126\n",
      "Iteration 7: Best solution cost = 126\n",
      "Best solution: [KOSZAROWA (Uniwersytet) - Poczta Główna - Wiejska - FAT - KRZYKI - KOSZAROWA (Uniwersytet)]\n",
      "Best solution cost: 126 minutes\n",
      "Start time: 21:05:00\n",
      "--------------------------------------------------\n",
      "KOSZAROWA (Uniwersytet)                  |       | 21:09:00\n",
      "pl. Daniłowskiego                        | 116   | 21:11:00\n",
      "--------------------------------------------------\n",
      "pl. Daniłowskiego                        | A     | 21:12:00\n",
      "Berenta                                  | A     | 21:13:00\n",
      "KROMERA                                  | A     | 21:16:00\n",
      "Mosty Warszawskie                        | A     | 21:18:00\n",
      "Wyszyńskiego                             | A     | 21:20:00\n",
      "Ogród Botaniczny                         | A     | 21:22:00\n",
      "Katedra                                  | A     | 21:23:00\n",
      "Urząd Wojewódzki (Muzeum Narodowe)       | A     | 21:24:00\n",
      "Poczta Główna                            | A     | 21:25:00\n",
      "--------------------------------------------------\n",
      "Poczta Główna                            | D     | 21:30:00\n",
      "Renoma                                   | D     | 21:33:00\n",
      "Arkady (Capitol)                         | D     | 21:35:00\n",
      "Rondo                                    | D     | 21:39:00\n",
      "Hallera                                  | D     | 21:42:00\n",
      "--------------------------------------------------\n",
      "Hallera                                  | 143   | 21:43:00\n",
      "Racławicka (szkoła)                      | 143   | 21:45:00\n",
      "Modlińska                                | 143   | 21:47:00\n",
      "Rymarska                                 | 143   | 21:48:00\n",
      "RACŁAWICKA                               | 143   | 21:49:00\n",
      "Bukowskiego                              | 143   | 21:50:00\n",
      "Stanki                                   | 143   | 21:51:00\n",
      "Kadłubka                                 | 143   | 21:52:00\n",
      "Wiejska                                  | 143   | 21:53:00\n",
      "--------------------------------------------------\n",
      "Wiejska                                  | 125   | 21:56:00\n",
      "OPORÓW                                   | 125   | 21:57:00\n",
      "GRABISZYŃSKA (Cmentarz)                  | 125   | 21:59:00\n",
      "Fiołkowa                                 | 125   | 22:00:00\n",
      "FAT                                      | 125   | 22:02:00\n",
      "--------------------------------------------------\n",
      "FAT                                      | 14    | 22:08:00\n",
      "Ojca Beyzyma                             | 14    | 22:09:00\n",
      "Mielecka                                 | 14    | 22:11:00\n",
      "Gajowicka                                | 14    | 22:12:00\n",
      "Hallera                                  | 14    | 22:14:00\n",
      "Jastrzębia                               | 14    | 22:15:00\n",
      "Orla                                     | 14    | 22:16:00\n",
      "--------------------------------------------------\n",
      "Orla                                     | 17    | 22:22:00\n",
      "KRZYKI                                   | 17    | 22:25:00\n",
      "--------------------------------------------------\n",
      "KRZYKI                                   | 7     | 22:29:00\n",
      "Jastrzębia                               | 7     | 22:30:00\n",
      "Hallera                                  | 7     | 22:31:00\n",
      "Sztabowa                                 | 7     | 22:32:00\n",
      "Rondo                                    | 7     | 22:33:00\n",
      "Wielka                                   | 7     | 22:34:00\n",
      "Zaolziańska                              | 7     | 22:35:00\n",
      "Arkady (Capitol)                         | 7     | 22:38:00\n",
      "Renoma                                   | 7     | 22:40:00\n",
      "--------------------------------------------------\n",
      "Renoma                                   | 148   | 22:42:00\n",
      "Dworzec Główny (Dworcowa)                | 148   | 22:45:00\n",
      "--------------------------------------------------\n",
      "Dworzec Główny (Dworcowa)                | 106   | 22:46:00\n",
      "skwer Krasińskiego                       | 106   | 22:48:00\n",
      "Krasińskiego                             | 106   | 22:49:00\n",
      "Urząd Wojewódzki (Muzeum Narodowe)       | 106   | 22:52:00\n",
      "Katedra                                  | 106   | 22:53:00\n",
      "Ogród Botaniczny                         | 106   | 22:55:00\n",
      "Wyszyńskiego                             | 106   | 22:57:00\n",
      "Damrota                                  | 106   | 22:58:00\n",
      "KROMERA                                  | 106   | 23:01:00\n",
      "Berenta                                  | 106   | 23:02:00\n",
      "--------------------------------------------------\n",
      "Berenta                                  | 105   | 23:03:00\n",
      "pl. Daniłowskiego                        | 105   | 23:04:00\n",
      "--------------------------------------------------\n",
      "pl. Daniłowskiego                        | A     | 23:08:00\n",
      "Przybyszewskiego                         | A     | 23:09:00\n",
      "Czajkowskiego                            | A     | 23:09:00\n",
      "Koszarowa                                | A     | 23:10:00\n",
      "--------------------------------------------------\n",
      "Koszarowa                                | P     | 23:10:00\n",
      "KOSZAROWA (Uniwersytet)                  | P     | 23:11:00\n",
      "--------------------------------------------------\n"
     ]
    }
   ],
   "source": [
    "hour = '21:05:00'\n",
    "start_station = koszarowa_uniwersytet\n",
    "stations_to_visit = [\n",
    "    fat,\n",
    "    wiejska,\n",
    "    poczta_glowna,\n",
    "    krzyki\n",
    "]\n",
    "_ = tabu_search(start_station, stations_to_visit, hour, data, True)"
   ]
  }
 ],
 "metadata": {
  "kernelspec": {
   "display_name": "Python 3",
   "language": "python",
   "name": "python3"
  },
  "language_info": {
   "codemirror_mode": {
    "name": "ipython",
    "version": 3
   },
   "file_extension": ".py",
   "mimetype": "text/x-python",
   "name": "python",
   "nbconvert_exporter": "python",
   "pygments_lexer": "ipython3",
   "version": "3.11.2"
  }
 },
 "nbformat": 4,
 "nbformat_minor": 2
}
